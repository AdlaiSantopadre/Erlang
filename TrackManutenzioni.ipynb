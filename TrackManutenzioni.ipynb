{
  "nbformat": 4,
  "nbformat_minor": 0,
  "metadata": {
    "colab": {
      "provenance": [],
      "authorship_tag": "ABX9TyM4K51o6g9EjvwNLoaueKfs",
      "include_colab_link": true
    },
    "kernelspec": {
      "name": "python3",
      "display_name": "Python 3"
    },
    "language_info": {
      "name": "python"
    }
  },
  "cells": [
    {
      "cell_type": "markdown",
      "metadata": {
        "id": "view-in-github",
        "colab_type": "text"
      },
      "source": [
        "<a href=\"https://colab.research.google.com/github/AdlaiSantopadre/Erlang/blob/main/TrackManutenzioni.ipynb\" target=\"_parent\"><img src=\"https://colab.research.google.com/assets/colab-badge.svg\" alt=\"Open In Colab\"/></a>"
      ]
    },
    {
      "cell_type": "code",
      "execution_count": null,
      "metadata": {
        "id": "iH_RI052nt3L"
      },
      "outputs": [],
      "source": []
    },
    {
      "cell_type": "markdown",
      "source": [
        "Questo blocco note sviluppa un foglio di calcolo excel per il tracciamento delle attività di manutenzione programmata prevista per le dotazioni antincendio in ambito autostradale in cui  sono presenti siti di servizio, locali tecnici, gallerie (ed altri ambienti).I dispositivi previsiti si trovano dislocati in itinere lungo le carreggiate sinistra e destrae in corrispondenza di altre pertinenze come le stazioni di pedaggio e le aree di servizio. Questi prevedono la presenza di una serie di dispositivi le cui tipologie si possono ricondurre all'elenco sottostante:"
      ],
      "metadata": {
        "id": "orc4_mYUn80y"
      }
    },
    {
      "cell_type": "markdown",
      "source": [
        "E' prevista  la presenza di una serie di dispositivi le cui tipologie si possono ricondurre all'elenco sottostante di **Tipo Risorsa**:\n",
        "\n",
        "\n",
        "1 Portoni carrabile REI\n",
        "\n",
        "2 Porte REI\n",
        "\n",
        "3 Attacchi per autopompa\n",
        "\n",
        "4 Idranti\n",
        "\n",
        "5 Cassette antincendio\n",
        "\n",
        "6 Gruppi pressurizzazione antincendio\n",
        "\n",
        "7 Impianti rilevamento incendio\n",
        "\n",
        "8 Serrande REI\n",
        "\n",
        "9 Estintori\n",
        "\n",
        "10 Supporti estintore"
      ],
      "metadata": {
        "id": "hQfUZY9rqLSv"
      }
    },
    {
      "cell_type": "markdown",
      "source": [
        "Ogni dispositivo è identificato univocamente da un **Identificativo numerico** , si trova in un luogo georeferenziato tramite un etichetta (tag) ed è a sua volta associato ad un etichetta georeferenziata. L'elenco delle tipologie dei luoghi si può ricondurre alla lista sottostante:"
      ],
      "metadata": {
        "id": "FDU5YoC0_kmm"
      }
    },
    {
      "cell_type": "markdown",
      "source": [
        "Ogni dispositivo localizzato mediante etichetta georeferenziata può essere individuato mediante un campo che descrive la localizzazione.\n",
        "L'elenco delle tipologie dei luoghi (**Tipo luogo**) si può ricondurre alla lista sottostante:\n",
        "\n",
        "1 Area di servizio\n",
        "\n",
        "2 Fabbricato %% accessorio\n",
        "\n",
        "3 Locale Tecnico %% accessorio\n",
        "\n",
        "4 Radio Ripetitore di Altura\n",
        "\n",
        "5 Shelter Impianti\n",
        "\n",
        "6 Sito operativo (Hub)\n",
        "\n",
        "7 Stazione di esazione\n",
        "\n",
        "8 Galleria\n",
        "\n",
        "Seguono i dati per la georeferenziazione"
      ],
      "metadata": {
        "id": "owqUyfDFBLHB"
      }
    },
    {
      "cell_type": "markdown",
      "source": [
        "Per ogni tipologia di dispositivo antincendio sussistano attività di manutenzione (ordinaria) programmata"
      ],
      "metadata": {
        "id": "4Oc1c_vwHtwQ"
      }
    },
    {
      "cell_type": "markdown",
      "source": [
        "Per ogni tipologia di dispositivo antincendio (= Tipo Risorsa) sussistono attività di manutenzione (ordinaria) programmata.\n",
        "Sostanzialmente una attività di manutenzione si contraddistingue (oltre che **tipo di attività** da svolgere) per:\n",
        "dispositivo associato;\n",
        "periodicità;\n",
        "data di inizio attività (timestamp che la identifica univocamente) ;\n",
        "data di scadenza attività;\n",
        "data di effettuazione.\n",
        "Sulla base della data di effettuazione e della periodicità viene calcolato il timestamp della successiva manutenzione periodica.\n",
        "Ogni attività prevede un assegnatario, prevede una flag di stato in relazione all'assegnamento ad una risorsa di manodopera (da assegnare/assegnata) ed una flag di stato rispetto all'esecuzione(da eseguire/eseguita)\n"
      ],
      "metadata": {
        "id": "XJJN5eJ0IMl2"
      }
    },
    {
      "cell_type": "code",
      "source": [],
      "metadata": {
        "id": "NDKt_5fA2_kj"
      },
      "execution_count": null,
      "outputs": []
    },
    {
      "cell_type": "markdown",
      "source": [
        "Il codice pyton che segue genera  tre dataframe popolati da cui si può ottenere un foglio excel con tre schede."
      ],
      "metadata": {
        "id": "JOlLmBquuUfn"
      }
    },
    {
      "cell_type": "code",
      "source": [
        "import pandas as pd\n",
        "\n",
        "# Creazione di un  DataFrame parziale con per la scheda \"Dispositivi\"\n",
        "dispositivi_data = {\n",
        "    \"ID Dispositivo\": [\"D001\", \"D002\", \"D003\", \"D004\",],\n",
        "    \"Etichetta\": [\"Tag1\", \"Tag2\", \"Tag3\", \"Tag4\", \"Tag5\", \"Tag6\", \"Tag7\", \"Tag8\", \"Tag9\", \"Tag10\"],\n",
        "    \"Tipo Risorsa\": #da lista [\"Portoni carrabili REI\", \"Porte REI\", \"Attacchi per autopompa\", \"Idranti\",\"Cassette antincendio\",\"Gruppi pressurizzazione antincendio\", \"Impianti rilevamento incendio\", \"Serrande REI\", \"Estintori\", \"Supporti estintori\"],\n",
        "    \"Tipo Luogo\": #da lista [\"Area di servizio\",\"Fabbricato\", \"Locale Tecnico\", \"Radio Ripetitore di Altura\", \"Shelter Impianti\",\"Sito operativo (Hub)\", \"Stazione di esazione\", \"Galleria\"],\n",
        "    \"Etichetta Georeferenziata\": [\"Geo1\", \"Geo2\", \"Geo3\", \"Geo4\", \"Geo5\", \"Geo6\", \"Geo7\", \"Geo8\", \"Geo9\", \"Geo10\"],\n",
        "\n",
        "                    }\n",
        "dispositivi_df = pd.DataFrame(dispositivi_data)\n",
        "\n",
        "# Creazione del DataFrame per la scheda \"Attività di Manutenzione\"\n",
        "attivita_data = {\n",
        "    \"Tipo Attività\": [\"A001\", \"A002\", \"A003\", \"A004\"],\n",
        "    \"ID Dispositivo\": [\"D001\", \"D002\", \"D003\", \"D004\"],\n",
        "    \"Periodicità\":# da lista [\"Trimestrale\", \"Semestrale\", \"Annuale\"],\n",
        "    \"Data Scadenza\": [\"2023-04-15\", \"2023-05-20\", \"2023-06-25\", \"2023-07-30\"],\n",
        "    \"Stato\": [\"Da fare\", \"In corso\", \"Completata\", \"Da fare\"],\n",
        "    \"Assegnatario\": [\"Team A\", \"Team B\", \"Team C\", \"Team A\"]\n",
        "    \"Inizio Manutenzione\": [\"2023-01-15\", \"2023-02-20\", \"2023-03-25\", \"2023-04-30\"],\n",
        "\n",
        "    \"Periodicità Manutenzione\":#da lista [\"Trimestrale\", \"Semestrale\", \"Annuale\"]\n",
        "    \"Prossima Manutenzione\": [\"2023-04-15\", \"2023-05-20\", \"2023-06-25\", \"2023-07-30\"],\n",
        "}\n",
        "\n",
        "attivita_df = pd.DataFrame(attivita_data)\n",
        "\n",
        "# Creazione del DataFrame per la scheda \"Cronologia Manutenzioni\"\n",
        "cronologia_data = {\n",
        "    \"ID Dispositivo\": [\"D001\", \"D002\", \"D003\", \"D004\"],\n",
        "    \"Data Manutenzione\": [\"2023-01-15\", \"2023-02-20\", \"2023-03-25\", \"2023-04-30\"],\n",
        "    \"Tipo Manutenzione\": [\"Ricarica\", \"Revisione\", \"Ispezione\", \"Manutenzione\"],\n",
        "    \"Note\": [\"Nessuna anomalia\", \"Sostituita guarnizione\", \"Tutto ok\", \"Rivisto sistema di aggancio\"]\n",
        "}\n",
        "cronologia_df = pd.DataFrame(cronologia_data)\n",
        "# Stampa dei DataFrame\n",
        "\"\"\"\n",
        "Scrittura del file Excel con multi-schede\n",
        "with pd.ExcelWriter('/mnt/data/Gestione_Manutenzione_Dispositivi_Antincendio.xlsx') as writer:\n",
        "  dispositivi_df.to_excel(writer, sheet_name='Dispositivi', index=False)\n",
        "  attivita_df.to_excel(writer, sheet_name='Attività di Manutenzione', index=False)\n",
        "  cronologia_df.to_excel(writer, sheet_name='Cronologia Manutenzioni', index=False)\n",
        "\n",
        "\"\"\""
      ],
      "metadata": {
        "id": "Z9rRRocZNp4T",
        "colab": {
          "base_uri": "https://localhost:8080/",
          "height": 106
        },
        "outputId": "e125f0dc-821d-472e-f20d-d262be97e30e"
      },
      "execution_count": 4,
      "outputs": [
        {
          "output_type": "error",
          "ename": "SyntaxError",
          "evalue": "invalid syntax (<ipython-input-4-47d83facc993>, line 8)",
          "traceback": [
            "\u001b[0;36m  File \u001b[0;32m\"<ipython-input-4-47d83facc993>\"\u001b[0;36m, line \u001b[0;32m8\u001b[0m\n\u001b[0;31m    \"Tipo Luogo\": #da lista [\"Area di servizio\",\"Fabbricato\", \"Locale Tecnico\", \"Radio Ripetitore di Altura\", \"Shelter Impianti\",\"Sito operativo (Hub)\", \"Stazione di esazione\", \"Galleria\"],\u001b[0m\n\u001b[0m                ^\u001b[0m\n\u001b[0;31mSyntaxError\u001b[0m\u001b[0;31m:\u001b[0m invalid syntax\n"
          ]
        }
      ]
    },
    {
      "cell_type": "markdown",
      "source": [
        "Il codice Python seguente è una evoluzione:genera un foglio di calcolo con una sola scheda.Una per i dispositivi e una per il tracking delle  attività di manutenzione. Viene implementato il requisito di gestire gli aspetti della cronogia delle attività con la libreria datetime"
      ],
      "metadata": {
        "id": "dBJ_edKjvOgf"
      }
    },
    {
      "cell_type": "code",
      "source": [
        "import pandas as pd\n",
        "from datetime import datetime, timedelta\n",
        "\n",
        "# Definire alcune date di esempio per le scadenze\n",
        "today = datetime.today()\n",
        "dates = {\n",
        "    \"Trimestrale\": today + timedelta(days=90),\n",
        "    \"Semestrale\": today + timedelta(days=180),\n",
        "    \"Annuale\": today + timedelta(days=365)\n",
        "}\n",
        "# Creazione di un  DataFrame parziale con per la scheda \"Dispositivi\"\n",
        "dispositivi_data = {\n",
        "    \"ID Dispositivo\": [\"D001\", \"D002\", \"D003\", \"D004\",],\n",
        "    \"Etichetta\": [\"Tag1\", \"Tag2\", \"Tag3\", \"Tag4\", \"Tag5\", \"Tag6\", \"Tag7\", \"Tag8\", \"Tag9\", \"Tag10\"],\n",
        "    \"Tipo Risorsa\": #da lista [\"Portoni carrabili REI\", \"Porte REI\", \"Attacchi per autopompa\", \"Idranti\",\"Cassette antincendio\",\"Gruppi pressurizzazione antincendio\", \"Impianti rilevamento incendio\", \"Serrande REI\", \"Estintori\", \"Supporti estintori\"],\n",
        "    \"Tipo Luogo\": #da lista [\"Area di servizio\",\"Fabbricato\", \"Locale Tecnico\", \"Radio Ripetitore di Altura\", \"Shelter Impianti\",\"Sito operativo (Hub)\", \"Stazione di esazione\", \"Galleria\"],\n",
        "    \"Etichetta Georeferenziata\": [\"Geo1\", \"Geo2\", \"Geo3\", \"Geo4\", \"Geo5\", \"Geo6\", \"Geo7\", \"Geo8\", \"Geo9\", \"Geo10\"],\n",
        "dispositivi_df = pd.DataFrame(dispositivi_data)\n",
        "    }\n",
        "# Creazione del DataFrame per la scheda \"Attività di Manutenzione\"\n",
        "attivita_data = {\n",
        "    \"Tipo Attività\":#da lista [\"A001\", \"A002\", \"A003\", \"A004\"],\n",
        "    # dalla documentazione di timestamp valutare a cosa corrisponde l' incremento di uno\n",
        "\n",
        "    \"Codice Attività\": [today.timestamp(), today.timestamp() + 1, today.timestamp() + 2, today.timestamp() + 3],\n",
        "    # Dispositivo univoco associato , georeferenziato\n",
        "    \"ID Dispositivo\": [\"D001\", \"D002\", \"D003\", \"D004\"],\n",
        "    \"Etichetta Georeferenziata\": [\"Geo1\", \"Geo2\", \"Geo3\", \"Geo4\", \"Geo5\", \"Geo6\", \"Geo7\", \"Geo8\", \"Geo9\", \"Geo10\"],\n",
        "    #Campi per la gestione del tracking cronologico\n",
        "    \"Inizio Manutenzione\": [\"2023-01-15\", \"2023-02-20\", \"2023-03-25\", \"2023-04-30\"],\n",
        "    \"Periodicità Manutenzione\":# da lista [\"Trimestrale\", \"Semestrale\", \"Annuale\"],\n",
        "    \"Data Scadenza\": [dates[\"Trimestrale\"], dates[\"Semestrale\"], dates[\"Annuale\"], dates[\"Trimestrale\"]],\n",
        "    \"Flag scadenza\": # scaduta SI-NO\n",
        "    \"Stato\":\n",
        "    \"Flag assegnazione\":# assegnata SI-NO\n",
        "attivita_df = pd.DataFrame(attivita_data)\n",
        "}\n",
        "\n",
        "\n",
        "# Stampa dei DataFrame\n",
        "#Scrittura del file Excel con multi-schede\n",
        "# with pd.ExcelWriter('/mnt/data/Gestione_Manutenzione_Dispositivi_Antincendio.xlsx') as writer:\n",
        "#    dispositivi_df.to_excel(writer, sheet_name='Dispositivi', index=False)\n",
        "#   attivita_df.to_excel(writer, sheet_name='Attività di Manutenzione', index=False)\n"
      ],
      "metadata": {
        "id": "18zrtqGsMiip",
        "colab": {
          "base_uri": "https://localhost:8080/",
          "height": 106
        },
        "outputId": "e7c67cc7-646a-4530-d24f-1d086bb27bdd"
      },
      "execution_count": 3,
      "outputs": [
        {
          "output_type": "error",
          "ename": "SyntaxError",
          "evalue": "unterminated string literal (detected at line 34) (<ipython-input-3-571bbc8469f6>, line 34)",
          "traceback": [
            "\u001b[0;36m  File \u001b[0;32m\"<ipython-input-3-571bbc8469f6>\"\u001b[0;36m, line \u001b[0;32m34\u001b[0m\n\u001b[0;31m    \"Stato\u001b[0m\n\u001b[0m    ^\u001b[0m\n\u001b[0;31mSyntaxError\u001b[0m\u001b[0;31m:\u001b[0m unterminated string literal (detected at line 34)\n"
          ]
        }
      ]
    },
    {
      "cell_type": "markdown",
      "source": [
        "**ESEGUIRE LA PRECEDENTE CELLA E POI PROSEGUIRE**"
      ],
      "metadata": {
        "id": "HdD-Uh9kBShj"
      }
    },
    {
      "cell_type": "code",
      "source": [
        "from google.colab import drive\n",
        "drive.mount('/content/drive')"
      ],
      "metadata": {
        "id": "c6kYxhs40XHe",
        "colab": {
          "base_uri": "https://localhost:8080/"
        },
        "outputId": "b628673e-5279-4028-aa64-eeb4b4550261"
      },
      "execution_count": null,
      "outputs": [
        {
          "output_type": "stream",
          "name": "stdout",
          "text": [
            "Mounted at /content/drive\n"
          ]
        }
      ]
    },
    {
      "cell_type": "markdown",
      "source": [],
      "metadata": {
        "id": "v6c52MkYMs_b"
      }
    },
    {
      "cell_type": "code",
      "source": [
        "import pandas as pd\n",
        "\n",
        "# Definizione delle liste di valori validi\n",
        "valid_tipi = [\"Estintore\", \"Porta REI\", \"Idrante\", \"Attacco Autopompa\"]\n",
        "valid_luoghi = [\"Magazzino\", \"Uscita Emergenza\", \"Parcheggio\", \"Ingresso Principale\", \"Corridoio\"]\n",
        "id_dispositivi_unici = list(range(1001, 2001))  # Lista di ID unici da 1001 a 2000\n",
        "\n",
        "# Creazione di un DataFrame vuoto con le colonne definite\n",
        "columns = [\"ID Dispositivo\", \"Tipo\", \"Ubicazione\", \"Ultima Manutenzione\", \"Prossima Manutenzione\", \"Frequenza Manutenzione\"]\n",
        "dispositivi_df = pd.DataFrame(columns=columns)\n",
        "\n",
        "# Definizione della funzione Aggiungi_dispositivo\n",
        "def Aggiungi_dispositivo(tipo, luogo, ultima_manutenzione, prossima_manutenzione, frequenza):\n",
        "    global id_dispositivi_unici\n",
        "\n",
        "    # Verifica se il tipo è valido\n",
        "    if tipo not in valid_tipi:\n",
        "        raise ValueError(f\"Tipo '{tipo}' non è valido. Deve essere uno tra {valid_tipi}\")\n",
        "\n",
        "    # Verifica se il luogo è valido\n",
        "    if luogo not in valid_luoghi:\n",
        "        raise ValueError(f\"Ubicazione '{luogo}' non è valida. Deve essere uno tra {valid_luoghi}\")\n",
        "\n",
        "    # Controllo se ci sono ID disponibili\n",
        "    if not id_dispositivi_unici:\n",
        "        raise ValueError(\"Non ci sono più ID disponibili per i dispositivi.\")\n",
        "\n",
        "    # Preleva il primo ID dalla lista e rimuovilo\n",
        "    id_dispositivo = id_dispositivi_unici.pop(0)\n",
        "\n",
        "    # Crea una nuova riga di dati\n",
        "    new_data = {\n",
        "        \"ID Dispositivo\": id_dispositivo,\n",
        "        \"Tipo\": tipo,\n",
        "        \"Ubicazione\": luogo,\n",
        "        \"Ultima Manutenzione\": ultima_manutenzione,\n",
        "        \"Prossima Manutenzione\": prossima_manutenzione,\n",
        "        \"Frequenza Manutenzione\": frequenza\n",
        "    }\n",
        "\n",
        "\n",
        "    # Aggiungi la nuova riga al DataFrame using pd.concat()\n",
        "    global dispositivi_df\n",
        "    dispositivi_df = pd.concat([dispositivi_df, pd.DataFrame([new_data])], ignore_index=True)\n",
        "\n",
        "    return dispositivi_df\n",
        "\n",
        "# Esempi di utilizzo della funzione Aggiungi_dispositivo\n",
        "dispositivi_df = Aggiungi_dispositivo(\"Estintore\", \"Magazzino\", \"2023-06-01\", \"2023-09-01\", \"Trimestrale\")\n",
        "dispositivi_df = Aggiungi_dispositivo(\"Porta REI\", \"Uscita Emergenza\", \"2023-05-15\", \"2023-11-15\", \"Semestrale\")\n",
        "\n",
        "# Visualizzazione del DataFrame aggiornato\n",
        "dispositivi_df"
      ],
      "metadata": {
        "id": "tu0BkoO-NQH9",
        "colab": {
          "base_uri": "https://localhost:8080/",
          "height": 167
        },
        "collapsed": true,
        "outputId": "75992444-b016-4e5d-a2c5-503a008bdf24"
      },
      "execution_count": null,
      "outputs": [
        {
          "output_type": "execute_result",
          "data": {
            "text/plain": [
              "  ID Dispositivo       Tipo        Ubicazione Ultima Manutenzione  \\\n",
              "0           1001  Estintore         Magazzino          2023-06-01   \n",
              "1           1002  Porta REI  Uscita Emergenza          2023-05-15   \n",
              "\n",
              "  Prossima Manutenzione Frequenza Manutenzione  \n",
              "0            2023-09-01            Trimestrale  \n",
              "1            2023-11-15             Semestrale  "
            ],
            "text/html": [
              "\n",
              "  <div id=\"df-100ce026-dbf1-44d2-add1-750b8afdc90e\" class=\"colab-df-container\">\n",
              "    <div>\n",
              "<style scoped>\n",
              "    .dataframe tbody tr th:only-of-type {\n",
              "        vertical-align: middle;\n",
              "    }\n",
              "\n",
              "    .dataframe tbody tr th {\n",
              "        vertical-align: top;\n",
              "    }\n",
              "\n",
              "    .dataframe thead th {\n",
              "        text-align: right;\n",
              "    }\n",
              "</style>\n",
              "<table border=\"1\" class=\"dataframe\">\n",
              "  <thead>\n",
              "    <tr style=\"text-align: right;\">\n",
              "      <th></th>\n",
              "      <th>ID Dispositivo</th>\n",
              "      <th>Tipo</th>\n",
              "      <th>Ubicazione</th>\n",
              "      <th>Ultima Manutenzione</th>\n",
              "      <th>Prossima Manutenzione</th>\n",
              "      <th>Frequenza Manutenzione</th>\n",
              "    </tr>\n",
              "  </thead>\n",
              "  <tbody>\n",
              "    <tr>\n",
              "      <th>0</th>\n",
              "      <td>1001</td>\n",
              "      <td>Estintore</td>\n",
              "      <td>Magazzino</td>\n",
              "      <td>2023-06-01</td>\n",
              "      <td>2023-09-01</td>\n",
              "      <td>Trimestrale</td>\n",
              "    </tr>\n",
              "    <tr>\n",
              "      <th>1</th>\n",
              "      <td>1002</td>\n",
              "      <td>Porta REI</td>\n",
              "      <td>Uscita Emergenza</td>\n",
              "      <td>2023-05-15</td>\n",
              "      <td>2023-11-15</td>\n",
              "      <td>Semestrale</td>\n",
              "    </tr>\n",
              "  </tbody>\n",
              "</table>\n",
              "</div>\n",
              "    <div class=\"colab-df-buttons\">\n",
              "\n",
              "  <div class=\"colab-df-container\">\n",
              "    <button class=\"colab-df-convert\" onclick=\"convertToInteractive('df-100ce026-dbf1-44d2-add1-750b8afdc90e')\"\n",
              "            title=\"Convert this dataframe to an interactive table.\"\n",
              "            style=\"display:none;\">\n",
              "\n",
              "  <svg xmlns=\"http://www.w3.org/2000/svg\" height=\"24px\" viewBox=\"0 -960 960 960\">\n",
              "    <path d=\"M120-120v-720h720v720H120Zm60-500h600v-160H180v160Zm220 220h160v-160H400v160Zm0 220h160v-160H400v160ZM180-400h160v-160H180v160Zm440 0h160v-160H620v160ZM180-180h160v-160H180v160Zm440 0h160v-160H620v160Z\"/>\n",
              "  </svg>\n",
              "    </button>\n",
              "\n",
              "  <style>\n",
              "    .colab-df-container {\n",
              "      display:flex;\n",
              "      gap: 12px;\n",
              "    }\n",
              "\n",
              "    .colab-df-convert {\n",
              "      background-color: #E8F0FE;\n",
              "      border: none;\n",
              "      border-radius: 50%;\n",
              "      cursor: pointer;\n",
              "      display: none;\n",
              "      fill: #1967D2;\n",
              "      height: 32px;\n",
              "      padding: 0 0 0 0;\n",
              "      width: 32px;\n",
              "    }\n",
              "\n",
              "    .colab-df-convert:hover {\n",
              "      background-color: #E2EBFA;\n",
              "      box-shadow: 0px 1px 2px rgba(60, 64, 67, 0.3), 0px 1px 3px 1px rgba(60, 64, 67, 0.15);\n",
              "      fill: #174EA6;\n",
              "    }\n",
              "\n",
              "    .colab-df-buttons div {\n",
              "      margin-bottom: 4px;\n",
              "    }\n",
              "\n",
              "    [theme=dark] .colab-df-convert {\n",
              "      background-color: #3B4455;\n",
              "      fill: #D2E3FC;\n",
              "    }\n",
              "\n",
              "    [theme=dark] .colab-df-convert:hover {\n",
              "      background-color: #434B5C;\n",
              "      box-shadow: 0px 1px 3px 1px rgba(0, 0, 0, 0.15);\n",
              "      filter: drop-shadow(0px 1px 2px rgba(0, 0, 0, 0.3));\n",
              "      fill: #FFFFFF;\n",
              "    }\n",
              "  </style>\n",
              "\n",
              "    <script>\n",
              "      const buttonEl =\n",
              "        document.querySelector('#df-100ce026-dbf1-44d2-add1-750b8afdc90e button.colab-df-convert');\n",
              "      buttonEl.style.display =\n",
              "        google.colab.kernel.accessAllowed ? 'block' : 'none';\n",
              "\n",
              "      async function convertToInteractive(key) {\n",
              "        const element = document.querySelector('#df-100ce026-dbf1-44d2-add1-750b8afdc90e');\n",
              "        const dataTable =\n",
              "          await google.colab.kernel.invokeFunction('convertToInteractive',\n",
              "                                                    [key], {});\n",
              "        if (!dataTable) return;\n",
              "\n",
              "        const docLinkHtml = 'Like what you see? Visit the ' +\n",
              "          '<a target=\"_blank\" href=https://colab.research.google.com/notebooks/data_table.ipynb>data table notebook</a>'\n",
              "          + ' to learn more about interactive tables.';\n",
              "        element.innerHTML = '';\n",
              "        dataTable['output_type'] = 'display_data';\n",
              "        await google.colab.output.renderOutput(dataTable, element);\n",
              "        const docLink = document.createElement('div');\n",
              "        docLink.innerHTML = docLinkHtml;\n",
              "        element.appendChild(docLink);\n",
              "      }\n",
              "    </script>\n",
              "  </div>\n",
              "\n",
              "\n",
              "<div id=\"df-7f77d7b6-d055-461f-b116-16c419383ac9\">\n",
              "  <button class=\"colab-df-quickchart\" onclick=\"quickchart('df-7f77d7b6-d055-461f-b116-16c419383ac9')\"\n",
              "            title=\"Suggest charts\"\n",
              "            style=\"display:none;\">\n",
              "\n",
              "<svg xmlns=\"http://www.w3.org/2000/svg\" height=\"24px\"viewBox=\"0 0 24 24\"\n",
              "     width=\"24px\">\n",
              "    <g>\n",
              "        <path d=\"M19 3H5c-1.1 0-2 .9-2 2v14c0 1.1.9 2 2 2h14c1.1 0 2-.9 2-2V5c0-1.1-.9-2-2-2zM9 17H7v-7h2v7zm4 0h-2V7h2v10zm4 0h-2v-4h2v4z\"/>\n",
              "    </g>\n",
              "</svg>\n",
              "  </button>\n",
              "\n",
              "<style>\n",
              "  .colab-df-quickchart {\n",
              "      --bg-color: #E8F0FE;\n",
              "      --fill-color: #1967D2;\n",
              "      --hover-bg-color: #E2EBFA;\n",
              "      --hover-fill-color: #174EA6;\n",
              "      --disabled-fill-color: #AAA;\n",
              "      --disabled-bg-color: #DDD;\n",
              "  }\n",
              "\n",
              "  [theme=dark] .colab-df-quickchart {\n",
              "      --bg-color: #3B4455;\n",
              "      --fill-color: #D2E3FC;\n",
              "      --hover-bg-color: #434B5C;\n",
              "      --hover-fill-color: #FFFFFF;\n",
              "      --disabled-bg-color: #3B4455;\n",
              "      --disabled-fill-color: #666;\n",
              "  }\n",
              "\n",
              "  .colab-df-quickchart {\n",
              "    background-color: var(--bg-color);\n",
              "    border: none;\n",
              "    border-radius: 50%;\n",
              "    cursor: pointer;\n",
              "    display: none;\n",
              "    fill: var(--fill-color);\n",
              "    height: 32px;\n",
              "    padding: 0;\n",
              "    width: 32px;\n",
              "  }\n",
              "\n",
              "  .colab-df-quickchart:hover {\n",
              "    background-color: var(--hover-bg-color);\n",
              "    box-shadow: 0 1px 2px rgba(60, 64, 67, 0.3), 0 1px 3px 1px rgba(60, 64, 67, 0.15);\n",
              "    fill: var(--button-hover-fill-color);\n",
              "  }\n",
              "\n",
              "  .colab-df-quickchart-complete:disabled,\n",
              "  .colab-df-quickchart-complete:disabled:hover {\n",
              "    background-color: var(--disabled-bg-color);\n",
              "    fill: var(--disabled-fill-color);\n",
              "    box-shadow: none;\n",
              "  }\n",
              "\n",
              "  .colab-df-spinner {\n",
              "    border: 2px solid var(--fill-color);\n",
              "    border-color: transparent;\n",
              "    border-bottom-color: var(--fill-color);\n",
              "    animation:\n",
              "      spin 1s steps(1) infinite;\n",
              "  }\n",
              "\n",
              "  @keyframes spin {\n",
              "    0% {\n",
              "      border-color: transparent;\n",
              "      border-bottom-color: var(--fill-color);\n",
              "      border-left-color: var(--fill-color);\n",
              "    }\n",
              "    20% {\n",
              "      border-color: transparent;\n",
              "      border-left-color: var(--fill-color);\n",
              "      border-top-color: var(--fill-color);\n",
              "    }\n",
              "    30% {\n",
              "      border-color: transparent;\n",
              "      border-left-color: var(--fill-color);\n",
              "      border-top-color: var(--fill-color);\n",
              "      border-right-color: var(--fill-color);\n",
              "    }\n",
              "    40% {\n",
              "      border-color: transparent;\n",
              "      border-right-color: var(--fill-color);\n",
              "      border-top-color: var(--fill-color);\n",
              "    }\n",
              "    60% {\n",
              "      border-color: transparent;\n",
              "      border-right-color: var(--fill-color);\n",
              "    }\n",
              "    80% {\n",
              "      border-color: transparent;\n",
              "      border-right-color: var(--fill-color);\n",
              "      border-bottom-color: var(--fill-color);\n",
              "    }\n",
              "    90% {\n",
              "      border-color: transparent;\n",
              "      border-bottom-color: var(--fill-color);\n",
              "    }\n",
              "  }\n",
              "</style>\n",
              "\n",
              "  <script>\n",
              "    async function quickchart(key) {\n",
              "      const quickchartButtonEl =\n",
              "        document.querySelector('#' + key + ' button');\n",
              "      quickchartButtonEl.disabled = true;  // To prevent multiple clicks.\n",
              "      quickchartButtonEl.classList.add('colab-df-spinner');\n",
              "      try {\n",
              "        const charts = await google.colab.kernel.invokeFunction(\n",
              "            'suggestCharts', [key], {});\n",
              "      } catch (error) {\n",
              "        console.error('Error during call to suggestCharts:', error);\n",
              "      }\n",
              "      quickchartButtonEl.classList.remove('colab-df-spinner');\n",
              "      quickchartButtonEl.classList.add('colab-df-quickchart-complete');\n",
              "    }\n",
              "    (() => {\n",
              "      let quickchartButtonEl =\n",
              "        document.querySelector('#df-7f77d7b6-d055-461f-b116-16c419383ac9 button');\n",
              "      quickchartButtonEl.style.display =\n",
              "        google.colab.kernel.accessAllowed ? 'block' : 'none';\n",
              "    })();\n",
              "  </script>\n",
              "</div>\n",
              "\n",
              "  <div id=\"id_796b1c12-83ad-4096-bba9-6edecdce6d71\">\n",
              "    <style>\n",
              "      .colab-df-generate {\n",
              "        background-color: #E8F0FE;\n",
              "        border: none;\n",
              "        border-radius: 50%;\n",
              "        cursor: pointer;\n",
              "        display: none;\n",
              "        fill: #1967D2;\n",
              "        height: 32px;\n",
              "        padding: 0 0 0 0;\n",
              "        width: 32px;\n",
              "      }\n",
              "\n",
              "      .colab-df-generate:hover {\n",
              "        background-color: #E2EBFA;\n",
              "        box-shadow: 0px 1px 2px rgba(60, 64, 67, 0.3), 0px 1px 3px 1px rgba(60, 64, 67, 0.15);\n",
              "        fill: #174EA6;\n",
              "      }\n",
              "\n",
              "      [theme=dark] .colab-df-generate {\n",
              "        background-color: #3B4455;\n",
              "        fill: #D2E3FC;\n",
              "      }\n",
              "\n",
              "      [theme=dark] .colab-df-generate:hover {\n",
              "        background-color: #434B5C;\n",
              "        box-shadow: 0px 1px 3px 1px rgba(0, 0, 0, 0.15);\n",
              "        filter: drop-shadow(0px 1px 2px rgba(0, 0, 0, 0.3));\n",
              "        fill: #FFFFFF;\n",
              "      }\n",
              "    </style>\n",
              "    <button class=\"colab-df-generate\" onclick=\"generateWithVariable('dispositivi_df')\"\n",
              "            title=\"Generate code using this dataframe.\"\n",
              "            style=\"display:none;\">\n",
              "\n",
              "  <svg xmlns=\"http://www.w3.org/2000/svg\" height=\"24px\"viewBox=\"0 0 24 24\"\n",
              "       width=\"24px\">\n",
              "    <path d=\"M7,19H8.4L18.45,9,17,7.55,7,17.6ZM5,21V16.75L18.45,3.32a2,2,0,0,1,2.83,0l1.4,1.43a1.91,1.91,0,0,1,.58,1.4,1.91,1.91,0,0,1-.58,1.4L9.25,21ZM18.45,9,17,7.55Zm-12,3A5.31,5.31,0,0,0,4.9,8.1,5.31,5.31,0,0,0,1,6.5,5.31,5.31,0,0,0,4.9,4.9,5.31,5.31,0,0,0,6.5,1,5.31,5.31,0,0,0,8.1,4.9,5.31,5.31,0,0,0,12,6.5,5.46,5.46,0,0,0,6.5,12Z\"/>\n",
              "  </svg>\n",
              "    </button>\n",
              "    <script>\n",
              "      (() => {\n",
              "      const buttonEl =\n",
              "        document.querySelector('#id_796b1c12-83ad-4096-bba9-6edecdce6d71 button.colab-df-generate');\n",
              "      buttonEl.style.display =\n",
              "        google.colab.kernel.accessAllowed ? 'block' : 'none';\n",
              "\n",
              "      buttonEl.onclick = () => {\n",
              "        google.colab.notebook.generateWithVariable('dispositivi_df');\n",
              "      }\n",
              "      })();\n",
              "    </script>\n",
              "  </div>\n",
              "\n",
              "    </div>\n",
              "  </div>\n"
            ],
            "application/vnd.google.colaboratory.intrinsic+json": {
              "type": "dataframe",
              "variable_name": "dispositivi_df",
              "summary": "{\n  \"name\": \"dispositivi_df\",\n  \"rows\": 2,\n  \"fields\": [\n    {\n      \"column\": \"ID Dispositivo\",\n      \"properties\": {\n        \"dtype\": \"date\",\n        \"min\": 1001,\n        \"max\": 1002,\n        \"num_unique_values\": 2,\n        \"samples\": [\n          1002,\n          1001\n        ],\n        \"semantic_type\": \"\",\n        \"description\": \"\"\n      }\n    },\n    {\n      \"column\": \"Tipo\",\n      \"properties\": {\n        \"dtype\": \"string\",\n        \"num_unique_values\": 2,\n        \"samples\": [\n          \"Porta REI\",\n          \"Estintore\"\n        ],\n        \"semantic_type\": \"\",\n        \"description\": \"\"\n      }\n    },\n    {\n      \"column\": \"Ubicazione\",\n      \"properties\": {\n        \"dtype\": \"string\",\n        \"num_unique_values\": 2,\n        \"samples\": [\n          \"Uscita Emergenza\",\n          \"Magazzino\"\n        ],\n        \"semantic_type\": \"\",\n        \"description\": \"\"\n      }\n    },\n    {\n      \"column\": \"Ultima Manutenzione\",\n      \"properties\": {\n        \"dtype\": \"object\",\n        \"num_unique_values\": 2,\n        \"samples\": [\n          \"2023-05-15\",\n          \"2023-06-01\"\n        ],\n        \"semantic_type\": \"\",\n        \"description\": \"\"\n      }\n    },\n    {\n      \"column\": \"Prossima Manutenzione\",\n      \"properties\": {\n        \"dtype\": \"object\",\n        \"num_unique_values\": 2,\n        \"samples\": [\n          \"2023-11-15\",\n          \"2023-09-01\"\n        ],\n        \"semantic_type\": \"\",\n        \"description\": \"\"\n      }\n    },\n    {\n      \"column\": \"Frequenza Manutenzione\",\n      \"properties\": {\n        \"dtype\": \"string\",\n        \"num_unique_values\": 2,\n        \"samples\": [\n          \"Semestrale\",\n          \"Trimestrale\"\n        ],\n        \"semantic_type\": \"\",\n        \"description\": \"\"\n      }\n    }\n  ]\n}"
            }
          },
          "metadata": {},
          "execution_count": 13
        }
      ]
    },
    {
      "source": [
        "from google.colab import sheets\n",
        "sheet = sheets.InteractiveSheet(df=dispositivi_df)"
      ],
      "cell_type": "code",
      "execution_count": null,
      "outputs": [
        {
          "output_type": "stream",
          "name": "stdout",
          "text": [
            "https://docs.google.com/spreadsheets/d/1o21SWuJlT5amMfTmUzPPANVSlfXe7447WKGnNd2c1EA#gid=0\n"
          ]
        },
        {
          "output_type": "stream",
          "name": "stderr",
          "text": [
            "/usr/local/lib/python3.10/dist-packages/google/colab/sheets.py:31: FutureWarning: DataFrame.applymap has been deprecated. Use DataFrame.map instead.\n",
            "  return frame.applymap(_clean_val).replace({np.nan: None})\n"
          ]
        },
        {
          "output_type": "display_data",
          "data": {
            "text/plain": [
              "<IPython.lib.display.IFrame at 0x7fb0fc909450>"
            ],
            "text/html": [
              "\n",
              "        <iframe\n",
              "            width=\"100%\"\n",
              "            height=\"600\"\n",
              "            src=\"https://docs.google.com/spreadsheets/d/1o21SWuJlT5amMfTmUzPPANVSlfXe7447WKGnNd2c1EA#gid=0/edit?rm=embedded?usp=sharing?widget=true&amp;headers=false\"\n",
              "            frameborder=\"0\"\n",
              "            allowfullscreen\n",
              "            \n",
              "        ></iframe>\n",
              "        "
            ]
          },
          "metadata": {}
        }
      ],
      "metadata": {
        "cellView": "form",
        "colab": {
          "base_uri": "https://localhost:8080/",
          "height": 693
        },
        "id": "aAir7nRo57_4",
        "outputId": "9d736f19-78a1-4341-d77f-602ec960ef07"
      }
    }
  ]
}